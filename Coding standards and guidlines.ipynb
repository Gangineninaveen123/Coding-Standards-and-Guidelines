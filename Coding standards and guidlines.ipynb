{
 "cells": [
  {
   "cell_type": "markdown",
   "id": "45e1591e",
   "metadata": {},
   "source": [
    "# Coding Standards and Guidelines"
   ]
  },
  {
   "cell_type": "markdown",
   "id": "90b91203",
   "metadata": {},
   "source": [
    "## why do we need coding standards\n",
    "\n",
    "\n",
    "<!-- Coding standards help in the development of software programs that are less complex and thereby reduce the errors. If programming standards in software engineering are followed, the code is consistent and can be easily maintained. This is because anyone can understand it and can modify it at any point in time. -->"
   ]
  },
  {
   "cell_type": "code",
   "execution_count": null,
   "id": "0f233474",
   "metadata": {},
   "outputs": [],
   "source": [
    "\n",
    "Coding standards help in the development of software programs that are \n",
    "less complex and thereby reduce the errors. If programming standards in \n",
    "software engineering are followed, the code is consistent and can be easily maintained.\n",
    "This is because anyone can understand it and can modify it at any point in time."
   ]
  },
  {
   "cell_type": "markdown",
   "id": "957e34f4",
   "metadata": {},
   "source": [
    "## 1.  Limited use of globals:\n",
    "\n",
    "These rules tell about which types of data that can be declared global and the data that can’t be.\n"
   ]
  },
  {
   "cell_type": "markdown",
   "id": "1ad6a2c5",
   "metadata": {},
   "source": [
    "# 2. Standard headers for different modules:\n",
    "\n",
    "\n",
    "For better understanding and maintenance of the code, the header of different modules should follow some standard format and information. The header format must contain below things that is being used in various companies:\n",
    "--> Name of the module\n",
    "--> Date of module creation\n",
    "--> Author of the module\n",
    "--> Modification history\n",
    "--> Synopsis of the module about what the module does\n",
    "--> Different functions supported in the module along with their input output parameters\n",
    "--> Global variables accessed or modified by the module"
   ]
  },
  {
   "cell_type": "markdown",
   "id": "298dfa77",
   "metadata": {},
   "source": [
    "## 3. Naming conventions for local variables, global variables, constants and functions:\n",
    "\n",
    "\n",
    "--> Some of the naming conventions are given below:\n",
    "\n",
    "--> Local variables should be named using camel case lettering starting with small letter \n",
    "(e.g. localData) whereas Global variables names should start with a capital letter \n",
    "(e.g. GlobalData). Constant names should be formed using capital letters only (e.g. CONSDATA).\n",
    "\n",
    "--> The name of the function must describe the reason of using the function clearly and briefly.\n"
   ]
  },
  {
   "cell_type": "markdown",
   "id": "2003ec8a",
   "metadata": {},
   "source": [
    "# 4. Indentation:\n",
    "\n",
    "--> Proper indentation is very important to increase the readability of the code. \n",
    "For making the code readable, programmers should use White spaces properly."
   ]
  },
  {
   "cell_type": "markdown",
   "id": "70599baf",
   "metadata": {},
   "source": [
    "# 5. Avoid using an identifier for multiple purposes:\n",
    "\n",
    "--> Each variable should be given a descriptive and meaningful name indicating the reason behind using it. then code will be easy to understand"
   ]
  },
  {
   "cell_type": "markdown",
   "id": "2a5de4cd",
   "metadata": {},
   "source": [
    "# 6. Code should be well documented:\n",
    "\n",
    "--> The code should be properly commented for understanding easily. \n",
    "Comments regarding the statements increase the understandability of the code.\n",
    "\n",
    "\n",
    "\n",
    "\n"
   ]
  },
  {
   "cell_type": "code",
   "execution_count": 11,
   "id": "dd619f3f",
   "metadata": {},
   "outputs": [
    {
     "data": {
      "text/plain": [
       "'A'"
      ]
     },
     "execution_count": 11,
     "metadata": {},
     "output_type": "execute_result"
    }
   ],
   "source": [
    "# documenting a function\n",
    "\n",
    "\"\"\"\n",
    "Summary: getting grades from marks\n",
    "Description: This function takes marks as an argument and returns grades\n",
    "parameters:\n",
    "marks(int) : marks obtained\n",
    "\n",
    "grade(string) : grade achieved\n",
    "\"\"\"\n",
    "def get_grades(marks):\n",
    "    \n",
    "    if marks > 90:\n",
    "        grade = 'A'\n",
    "    elif marks > 70:\n",
    "        grade = 'B'\n",
    "    else:\n",
    "        grade = 'C'\n",
    "        \n",
    "    return grade\n",
    "get_grades(91)"
   ]
  },
  {
   "cell_type": "markdown",
   "id": "b9d5917d",
   "metadata": {},
   "source": [
    "# 7. Length of functions should not be very large:\n",
    "\n",
    "--> Lengthy functions are very difficult to understand. \n",
    "--> lengthy functions should be broken into small ones for completing small tasks."
   ]
  },
  {
   "cell_type": "markdown",
   "id": "79a183d2",
   "metadata": {},
   "source": [
    "# 8. Try not to use GOTO statement:\n",
    "\n",
    "--> GOTO statement makes the program unstructured, thus it reduces the understandability of the program and also debugging becomes difficult.\n",
    "\n",
    "\n"
   ]
  },
  {
   "cell_type": "markdown",
   "id": "bc02ab3b",
   "metadata": {},
   "source": [
    "# Advantages of Coding Guidelines:\n",
    "\n",
    "--> Coding guidelines increase the efficiency of the software and reduces the development time.\n",
    "--> Coding guidelines help in detecting errors in the early phases, so it helps to reduce the extra cost incurred by the software project.\n",
    "--> If coding guidelines are maintained properly, then the software code increases readability and understandability thus it reduces the complexity of the code.\n",
    "-->It reduces the hidden cost for developing the software."
   ]
  }
 ],
 "metadata": {
  "kernelspec": {
   "display_name": "Python 3",
   "language": "python",
   "name": "python3"
  },
  "language_info": {
   "codemirror_mode": {
    "name": "ipython",
    "version": 3
   },
   "file_extension": ".py",
   "mimetype": "text/x-python",
   "name": "python",
   "nbconvert_exporter": "python",
   "pygments_lexer": "ipython3",
   "version": "3.6.9"
  }
 },
 "nbformat": 4,
 "nbformat_minor": 5
}
